{
 "cells": [
  {
   "cell_type": "markdown",
   "metadata": {},
   "source": [
    "          _____                    _____                    _____                    _____                    _____                    _____                    _____          \n",
    "         /\\    \\                  /\\    \\                  /\\    \\                  /\\    \\                  /\\    \\                  /\\    \\                  /\\    \\         \n",
    "        /::\\    \\                /::\\____\\                /::\\    \\                /::\\____\\                /::\\    \\                /::\\    \\                /::\\____\\        \n",
    "       /::::\\    \\              /:::/    /               /::::\\    \\              /:::/    /               /::::\\    \\              /::::\\    \\              /:::/    /        \n",
    "      /::::::\\    \\            /:::/    /               /::::::\\    \\            /:::/    /               /::::::\\    \\            /::::::\\    \\            /:::/    /         \n",
    "     /:::/\\:::\\    \\          /:::/    /               /:::/\\:::\\    \\          /:::/    /               /:::/\\:::\\    \\          /:::/\\:::\\    \\          /:::/    /          \n",
    "    /:::/__\\:::\\    \\        /:::/    /               /:::/__\\:::\\    \\        /:::/____/               /:::/__\\:::\\    \\        /:::/__\\:::\\    \\        /:::/____/           \n",
    "   /::::\\   \\:::\\    \\      /:::/    /                \\:::\\   \\:::\\    \\      /::::\\    \\              /::::\\   \\:::\\    \\      /::::\\   \\:::\\    \\      /::::\\    \\           \n",
    "  /::::::\\   \\:::\\    \\    /:::/    /      _____    ___\\:::\\   \\:::\\    \\    /::::::\\    \\   _____    /::::::\\   \\:::\\    \\    /::::::\\   \\:::\\    \\    /::::::\\    \\   _____  \n",
    " /:::/\\:::\\   \\:::\\____\\  /:::/____/      /\\    \\  /\\   \\:::\\   \\:::\\    \\  /:::/\\:::\\    \\ /\\    \\  /:::/\\:::\\   \\:::\\    \\  /:::/\\:::\\   \\:::\\ ___\\  /:::/\\:::\\    \\ /\\    \\ \n",
    "/:::/  \\:::\\   \\:::|    ||:::|    /      /::\\____\\/::\\   \\:::\\   \\:::\\____\\/:::/  \\:::\\    /::\\____\\/:::/  \\:::\\   \\:::\\____\\/:::/__\\:::\\   \\:::|    |/:::/  \\:::\\    /::\\____\\\n",
    "\\::/   |::::\\  /:::|____||:::|____\\     /:::/    /\\:::\\   \\:::\\   \\::/    /\\::/    \\:::\\  /:::/    /\\::/    \\:::\\  /:::/    /\\:::\\   \\:::\\  /:::|____|\\::/    \\:::\\  /:::/    /\n",
    " \\/____|:::::\\/:::/    /  \\:::\\    \\   /:::/    /  \\:::\\   \\:::\\   \\/____/  \\/____/ \\:::\\/:::/    /  \\/____/ \\:::\\/:::/    /  \\:::\\   \\:::\\/:::/    /  \\/____/ \\:::\\/:::/    / \n",
    "       |:::::::::/    /    \\:::\\    \\ /:::/    /    \\:::\\   \\:::\\    \\               \\::::::/    /            \\::::::/    /    \\:::\\   \\::::::/    /            \\::::::/    /  \n",
    "       |::|\\::::/    /      \\:::\\    /:::/    /      \\:::\\   \\:::\\____\\               \\::::/    /              \\::::/    /      \\:::\\   \\::::/    /              \\::::/    /   \n",
    "       |::| \\::/____/        \\:::\\__/:::/    /        \\:::\\  /:::/    /               /:::/    /               /:::/    /        \\:::\\  /:::/    /               /:::/    /    \n",
    "       |::|  ~|               \\::::::::/    /          \\:::\\/:::/    /               /:::/    /               /:::/    /          \\:::\\/:::/    /               /:::/    /     \n",
    "       |::|   |                \\::::::/    /            \\::::::/    /               /:::/    /               /:::/    /            \\::::::/    /               /:::/    /      \n",
    "       \\::|   |                 \\::::/    /              \\::::/    /               /:::/    /               /:::/    /              \\::::/    /               /:::/    /       \n",
    "        \\:|   |                  \\::/____/                \\::/    /                \\::/    /                \\::/    /                \\::/____/                \\::/    /        \n",
    "         \\|___|                   ~~                       \\/____/                  \\/____/                  \\/____/                  ~~                       \\/____/         \n",
    "                                                                                                                                                                            \n"
   ]
  },
  {
   "cell_type": "markdown",
   "metadata": {
    "colab_type": "text",
    "id": "PicGvvtQwvrB"
   },
   "source": [
    "#Colab Setup"
   ]
  },
  {
   "cell_type": "code",
   "execution_count": null,
   "metadata": {
    "colab": {},
    "colab_type": "code",
    "id": "Ny65znAotBW_"
   },
   "outputs": [],
   "source": [
    "!pip install gym-retro\n",
    "!pip install gym\n",
    "!pip install gym[all]\n",
    "!pip install box2d\n",
    "!pip install box2d-py\n",
    "# !pip uninstall Box2D\n",
    "# !sudo apt-get install build-essential python-dev swig python-pygame"
   ]
  },
  {
   "cell_type": "code",
   "execution_count": 2,
   "metadata": {
    "colab": {},
    "colab_type": "code",
    "id": "1Cvgau8t5IyQ"
   },
   "outputs": [],
   "source": [
    "#remove \" > /dev/null 2>&1\" to see what is going on under the hood\n",
    "!pip install gym pyvirtualdisplay > /dev/null 2>&1\n",
    "!apt-get install -y xvfb python-opengl ffmpeg > /dev/null 2>&1"
   ]
  },
  {
   "cell_type": "code",
   "execution_count": null,
   "metadata": {
    "colab": {},
    "colab_type": "code",
    "id": "pOPclwA85Ja_"
   },
   "outputs": [],
   "source": [
    "!apt-get update > /dev/null 2>&1OF\n",
    "!apt-get install cmake > /dev/null 2>&1\n",
    "!pip install --upgrade setuptools 2>&1\n",
    "!pip install ez_setup > /dev/null 2>&1\n",
    "!pip install gym[atari] > /dev/null 2>&1"
   ]
  },
  {
   "cell_type": "code",
   "execution_count": 4,
   "metadata": {
    "colab": {},
    "colab_type": "code",
    "id": "uiyYU_ik_SFh"
   },
   "outputs": [],
   "source": [
    "import gym\n",
    "from gym import logger as gymlogger\n",
    "from gym.wrappers import Monitor\n",
    "gymlogger.set_level(40) #error only\n",
    "import tensorflow as tf\n",
    "import numpy as np\n",
    "import random\n",
    "import matplotlib\n",
    "import matplotlib.pyplot as plt\n",
    "%matplotlib inline\n",
    "import math\n",
    "import glob\n",
    "import io\n",
    "import base64\n",
    "from IPython.display import HTML\n",
    "\n",
    "from IPython import display as ipythondisplay"
   ]
  },
  {
   "cell_type": "code",
   "execution_count": 5,
   "metadata": {
    "colab": {
     "base_uri": "https://localhost:8080/",
     "height": 35
    },
    "colab_type": "code",
    "id": "nQEtc28G4niA",
    "outputId": "0336af64-f3ca-4d5b-d69a-43d59684f9b1"
   },
   "outputs": [
    {
     "data": {
      "text/plain": [
       "<pyvirtualdisplay.display.Display at 0x7f2c4790d588>"
      ]
     },
     "execution_count": 5,
     "metadata": {
      "tags": []
     },
     "output_type": "execute_result"
    }
   ],
   "source": [
    "from pyvirtualdisplay import Display\n",
    "display = Display(visible=0, size=(1400, 900))\n",
    "display.start()"
   ]
  },
  {
   "cell_type": "code",
   "execution_count": 6,
   "metadata": {
    "colab": {},
    "colab_type": "code",
    "id": "G9UWeToN4r7D"
   },
   "outputs": [],
   "source": [
    "\"\"\"\n",
    "Utility functions to enable video recording of gym environment and displaying it\n",
    "To enable video, just do \"env = wrap_env(env)\"\"\n",
    "\"\"\"\n",
    "\n",
    "def show_video():\n",
    "  mp4list = glob.glob('video/*.mp4')\n",
    "  if len(mp4list) > 0:\n",
    "    mp4 = mp4list[0]\n",
    "    video = io.open(mp4, 'r+b').read()\n",
    "    encoded = base64.b64encode(video)\n",
    "    ipythondisplay.display(HTML(data='''<video alt=\"test\" autoplay \n",
    "                loop controls style=\"height: 400px;\">\n",
    "                <source src=\"data:video/mp4;base64,{0}\" type=\"video/mp4\" />\n",
    "             </video>'''.format(encoded.decode('ascii'))))\n",
    "  else: \n",
    "    print(\"Could not find video\")\n",
    "    \n",
    "\n",
    "def wrap_env(env):\n",
    "  env = Monitor(env, './video', force=True)\n",
    "  return env"
   ]
  },
  {
   "cell_type": "code",
   "execution_count": null,
   "metadata": {
    "colab": {},
    "colab_type": "code",
    "id": "klzgspO35hP-"
   },
   "outputs": [],
   "source": [
    "!echo $DISPLAY"
   ]
  },
  {
   "cell_type": "markdown",
   "metadata": {
    "colab_type": "text",
    "id": "bl8GrNxQwzRi"
   },
   "source": [
    "# Init"
   ]
  },
  {
   "cell_type": "code",
   "execution_count": 17,
   "metadata": {
    "colab": {},
    "colab_type": "code",
    "id": "1EAb93tdwk61"
   },
   "outputs": [],
   "source": [
    "colab = True\n",
    "\n",
    "import tensorflow as tf\n",
    "import numpy\n",
    "import os\n",
    "import numpy as np\n",
    "import gym\n",
    "\n",
    "env = wrap_env(gym.make('LunarLander-v2')) if colab else gym.make('LunarLander-v2')\n",
    "obs = env.reset()\n",
    "\n",
    "#test\n",
    "# while True:\n",
    "#     env.render()\n",
    "#     action = env.action_space.sample()   \n",
    "#     observation, reward, done, info = env.step(action)    \n",
    "#     if done: \n",
    "#         break            \n",
    "# env.close()\n",
    "# if colab:\n",
    "#     show_video()"
   ]
  },
  {
   "cell_type": "code",
   "execution_count": 19,
   "metadata": {
    "colab": {},
    "colab_type": "code",
    "id": "dewPhb968IOm"
   },
   "outputs": [],
   "source": [
    "\n",
    "num_actions = env.action_space.n\n",
    "num_state_variables = env.observation_space.shape[0]\n",
    "lr = 0.003\n",
    "num_init_obs = 15\n",
    "max_games = 500\n",
    "threshold = 15\n",
    "\n",
    "gamma = 0.99\n",
    "max_mem = 60000\n",
    "epochs = 3\n",
    "checkpoint_path = './dql_checkpoint'\n",
    "load_weights = False\n",
    "\n",
    "possible_actions = np.arange(0,num_actions)\n",
    "actions_one_hot = np.ones((num_actions,))\n",
    "actions_one_hot = np.diag(actions_one_hot)"
   ]
  },
  {
   "cell_type": "code",
   "execution_count": 20,
   "metadata": {
    "colab": {},
    "colab_type": "code",
    "id": "3R_mkXPKEhN4"
   },
   "outputs": [],
   "source": [
    "def DQL_model():\n",
    "    model = tf.keras.Sequential([\n",
    "        tf.keras.layers.InputLayer(input_shape = (num_actions + num_state_variables,)),\n",
    "        tf.keras.layers.Dense(512, activation = 'relu'),\n",
    "        tf.keras.layers.Dense(256, activation = 'relu'),\n",
    "        tf.keras.layers.Dense(256, activation = 'relu'),\n",
    "        tf.keras.layers.Dense(1)\n",
    "    ])\n",
    "    return model\n",
    "    \n",
    "DQL = DQL_model()"
   ]
  },
  {
   "cell_type": "code",
   "execution_count": 21,
   "metadata": {
    "colab": {},
    "colab_type": "code",
    "id": "Qa_BK-RvI_0R"
   },
   "outputs": [],
   "source": [
    "DQL.compile(optimizer='adam' ,loss = 'mse', metrics = ['accuracy'])"
   ]
  },
  {
   "cell_type": "code",
   "execution_count": 22,
   "metadata": {
    "colab": {},
    "colab_type": "code",
    "id": "ePGC14-FJs6s"
   },
   "outputs": [],
   "source": [
    "#Load previous weights\n",
    "if load_weights:\n",
    "    print('Loading checkpoint form:', checkpoint_path)\n",
    "    model.load_weights(checkpoint_path)"
   ]
  },
  {
   "cell_type": "code",
   "execution_count": 23,
   "metadata": {
    "colab": {},
    "colab_type": "code",
    "id": "35e9RfqKKhE-"
   },
   "outputs": [],
   "source": [
    "def q_func(state, action):\n",
    "    s_a = np.concatenate([state, actions_one_hot[action]], axis = 0)[np.newaxis, :]\n",
    "    pred = DQL.predict(s_a)\n",
    "    return pred[0]"
   ]
  },
  {
   "cell_type": "code",
   "execution_count": null,
   "metadata": {
    "colab": {},
    "colab_type": "code",
    "id": "8e599nC95pKj"
   },
   "outputs": [],
   "source": [
    "\n",
    "#start training\n",
    "for game in range(max_games):\n",
    "    \n",
    "    gameX = np.zeros((1, num_actions + num_state_variables))\n",
    "    gameY = np.zeros((1,1))\n",
    "\n",
    "    qs = env.reset()\n",
    "\n",
    "    for step in range(40000):\n",
    "\n",
    "        if game < threshold:\n",
    "            a = env.action_space.sample()\n",
    "        \n",
    "        else:\n",
    "\n",
    "            eps = np.random.rand(1)\n",
    "\n",
    "            if eps < 1 - eps:\n",
    "                a = env.action_space.sample()\n",
    "            else:\n",
    "                prob_actions = np.array([q_func(qs, i) for i in range(num_actions)])\n",
    "                a = np.argmax(prob_actions)\n",
    "        \n",
    "        env.render()\n",
    "        s_a = np.concatenate([qs, actions_one_hot[a]], axis = 0) #[np.newaxis, :]\n",
    "\n",
    "        s, r, done, info = env.step(a)\n",
    "\n",
    "        if step == 0:\n",
    "            gameX[0] = s_a\n",
    "            gameY[0] = np.array([r])\n",
    "            memoryX[0] = s_a\n",
    "            memoryY[0] = np.array([r])\n",
    "        else:\n",
    "            gameX = np.vstack((gameX, s_a[np.newaxis, :]))\n",
    "            gameY = np.vstack((gameY, np.array([r])))\n",
    "\n",
    "        if done:\n",
    "            for i in range(gameY.shape[0]):\n",
    "                if i != 0:\n",
    "                    gameY[gameY.shape[0] - 1 - i] = gameY[gameY.shape[0] - 1 - i] - gamma*gameY[gameY.shape[0] - i]\n",
    "        \n",
    "            if memoryY.shape[0] == 1:\n",
    "                memoryX = gameX\n",
    "                memoryY = gameY\n",
    "            else:\n",
    "                memoryX = np.concatenate((memoryX, gameX), axis = 0)\n",
    "                memoryY = np.concatenate((memoryY, gameY), axis = 0)\n",
    "\n",
    "            if memoryX.shape[0] >= max_mem:\n",
    "                memoryX = np.delete(memoryX, range(gameX.shape[0]), axis = 0)\n",
    "                memoryY = np.delete(memoryY, range(gameX.shape[0]), axis = 0)\n",
    "        qs = s\n",
    "        \n",
    "        if done and game >= threshold:\n",
    "            if game%10 == 0:\n",
    "                print('Training', 'memory size:', memoryX.shape[0])\n",
    "                DQL.fit(memoryX, memoryY, batch_size = 256, epochs = epochs)\n",
    "        \n",
    "        if done:\n",
    "            if r >= 0 and r <= 99:\n",
    "                print('End reward is  positive')\n",
    "\n",
    "            if r >= 50:\n",
    "                print('WON Game')\n",
    "            break\n",
    "\n",
    "env.close()\n",
    "if colab:\n",
    "    show_video()"
   ]
  },
  {
   "cell_type": "code",
   "execution_count": 32,
   "metadata": {
    "colab": {},
    "colab_type": "code",
    "id": "mhho6VsU_Jwx"
   },
   "outputs": [],
   "source": [
    "# DQL.save_weights('./model/model1')"
   ]
  },
  {
   "cell_type": "code",
   "execution_count": null,
   "metadata": {
    "colab": {},
    "colab_type": "code",
    "id": "c506hLVBR_S5"
   },
   "outputs": [],
   "source": [
    "# colab = True\n",
    "# import gym\n",
    "\n",
    "# env = wrap_env(gym.make('LunarLander-v2')) if colab else gym.make('LunarLander-v2')\n",
    "# s = env.reset()\n",
    "\n",
    "# while True:\n",
    "#     env.render()\n",
    "#     prob_actions = np.array([q_func(qs, i) for i in range(num_actions)])\n",
    "#     a = np.argmax(prob_actions)\n",
    "#     s, r, done, info = env.step(a)\n",
    "#     if done: \n",
    "#         break            \n",
    "# env.close()\n",
    "# if colab:\n",
    "#     show_video()"
   ]
  },
  {
   "cell_type": "code",
   "execution_count": 38,
   "metadata": {
    "colab": {
     "base_uri": "https://localhost:8080/",
     "height": 107
    },
    "colab_type": "code",
    "id": "5g3WSVhUa4ZV",
    "outputId": "5cef8857-1193-4f9f-da8e-0727fb2f5f6e"
   },
   "outputs": [
    {
     "name": "stdout",
     "output_type": "stream",
     "text": [
      "  adding: model/ (stored 0%)\n",
      "  adding: model/model1.data-00000-of-00002 (deflated 83%)\n",
      "  adding: model/model1.data-00001-of-00002 (deflated 11%)\n",
      "  adding: model/model1.index (deflated 66%)\n",
      "  adding: model/checkpoint (deflated 39%)\n"
     ]
    }
   ],
   "source": [
    "# !zip -r model.zip model/"
   ]
  }
 ],
 "metadata": {
  "accelerator": "GPU",
  "colab": {
   "collapsed_sections": [
    "PicGvvtQwvrB"
   ],
   "name": "LunarLanderAI",
   "provenance": [],
   "toc_visible": true
  },
  "kernelspec": {
   "display_name": "Python 3",
   "language": "python",
   "name": "python3"
  },
  "language_info": {
   "codemirror_mode": {
    "name": "ipython",
    "version": 3
   },
   "file_extension": ".py",
   "mimetype": "text/x-python",
   "name": "python",
   "nbconvert_exporter": "python",
   "pygments_lexer": "ipython3",
   "version": "3.6.9"
  }
 },
 "nbformat": 4,
 "nbformat_minor": 1
}
